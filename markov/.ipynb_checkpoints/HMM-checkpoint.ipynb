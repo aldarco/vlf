{
 "cells": [
  {
   "cell_type": "code",
   "execution_count": 2,
   "id": "a038278c-4490-4de8-a6b9-e0fbee5b6d66",
   "metadata": {},
   "outputs": [],
   "source": [
    "import numpy as np\n",
    "import pandas as pd\n",
    "import matplotlib.pyplot as plt\n",
    "import datetime as dt"
   ]
  },
  {
   "cell_type": "code",
   "execution_count": null,
   "id": "0107b62e-0f45-4e02-807f-82c0b95a61d5",
   "metadata": {},
   "outputs": [],
   "source": [
    "df = pd.read_csv(\"/data/pavnet/2025/PIURA/NAA_serie_states.csv\", parse_dates=[0], index_col=[0])\n",
    "\n",
    "X = df[\"NAA-filt\"].values    \n",
    "S = df[\"state\"].values    \n",
    "S_single = df[\"state_point\"].values\n",
    "states = [1, 2]\n",
    "params = {}\n",
    "params_single = {}"
   ]
  },
  {
   "cell_type": "markdown",
   "id": "c9841b82-8aff-4c08-8120-dc10f3e15e3e",
   "metadata": {},
   "source": [
    "$$\n",
    "X_t-X_{t-1}= \\mu_k - \\beta_k X_{t-1} + \\sigma_k \\epsilon_t\n",
    "$$"
   ]
  },
  {
   "cell_type": "code",
   "execution_count": 32,
   "id": "33da53dc-e989-49c4-966f-cea82e3428f0",
   "metadata": {},
   "outputs": [
    {
     "data": {
      "text/plain": [
       "array([2.38705895, 2.27151939, 2.15825879, ..., 1.97670624, 1.73274352,\n",
       "       1.45619639], shape=(720717,))"
      ]
     },
     "execution_count": 32,
     "metadata": {},
     "output_type": "execute_result"
    }
   ],
   "source": [
    "X"
   ]
  },
  {
   "cell_type": "code",
   "execution_count": null,
   "id": "c8a716de-63ec-4029-a337-af2672bc3361",
   "metadata": {},
   "outputs": [],
   "source": [
    "for k in states:\n",
    "    idx = np.where(S == k)[0]\n",
    "    idx = idx[idx > 0]  # quitar primer punto si necesario\n",
    "\n",
    "    X_k = X[idx]\n",
    "    X_prev = X[idx - 1]\n",
    "    dX = X_k - X_prev\n",
    "\n",
    "    # Regression : dX = mu_k - beta_k * X_prev + error\n",
    "    A = np.vstack([np.ones(len(X_prev)), -X_prev]).T\n",
    "    coef, _, _, _ = np.linalg.lstsq(A, dX, rcond=None)\n",
    "    mu_k, beta_k = coef\n",
    "\n",
    "    resid = dX - (mu_k - beta_k * X_prev)\n",
    "    sigma_k = np.std(resid)\n",
    "\n",
    "    params[k] = {'mu': mu_k, 'beta': beta_k, 'sigma': sigma_k}"
   ]
  },
  {
   "cell_type": "code",
   "execution_count": 5,
   "id": "e5cf2eb8-3e82-42a1-8b90-1fcf507b8314",
   "metadata": {},
   "outputs": [
    {
     "name": "stdout",
     "output_type": "stream",
     "text": [
      "Parámetros estimados por estado:\n",
      "Estado 1: {'mu': np.float64(8.092201397461592e-05), 'beta': np.float64(0.0007493597626714326), 'sigma': np.float64(0.15574327000455246)}\n",
      "Estado 2: {'mu': np.float64(0.016931192406126373), 'beta': np.float64(0.0006867342563415714), 'sigma': np.float64(0.08794612367057401)}\n",
      "\n",
      "Matriz de transición:\n",
      "[[9.99893163e-01 1.06837006e-04]\n",
      " [8.12660393e-03 9.91873396e-01]]\n"
     ]
    }
   ],
   "source": [
    "# transitiuon matrix\n",
    "transitions = np.zeros((2, 2))\n",
    "for t in range(len(S) - 1):\n",
    "    transitions[S[t]-1, S[t+1]-1] += 1\n",
    "\n",
    "trans_probs = transitions / transitions.sum(axis=1, keepdims=True)\n",
    "\n",
    "# Mostrar resultados\n",
    "print(\"Parámetros estimados por estado:\")\n",
    "for k in params:\n",
    "    print(f\"Estado {k}: {params[k]}\")\n",
    "print(\"\\nMatriz de transición:\")\n",
    "print(trans_probs)"
   ]
  },
  {
   "cell_type": "markdown",
   "id": "909029fc-b63f-4a7a-a792-f313f8255f93",
   "metadata": {},
   "source": [
    "\\begin{bmatrix}\n",
    "P(1\\rightarrow 1) & P(1\\rightarrow 2)\\\\\n",
    "P(2\\rightarrow 1) & P(2\\rightarrow 2)\n",
    "\\end{bmatrix}"
   ]
  },
  {
   "cell_type": "code",
   "execution_count": 29,
   "id": "76b1cb9c-0e3b-441f-bdea-25f55fe8c26a",
   "metadata": {},
   "outputs": [
    {
     "data": {
      "text/plain": [
       "array([1., 1.])"
      ]
     },
     "execution_count": 29,
     "metadata": {},
     "output_type": "execute_result"
    }
   ],
   "source": [
    "np.sum(trans_probs, axis=1)\n"
   ]
  },
  {
   "cell_type": "markdown",
   "id": "ca1c6525-ee7f-4452-8ac7-fe2f9a85682a",
   "metadata": {},
   "source": [
    "Estimación inicial de:\n",
    "\n",
    "    μ1,β1,σ1μ1​,β1​,σ1​ (normal).\n",
    "\n",
    "    μ2,β2,σ2μ2​,β2​,σ2​ (flare).\n",
    "\n",
    "Matriz de transición:\n",
    "[P(1→1)P(1→2)\n",
    "P(2→1)P(2→2)]\n",
    "[P(1→1)P(2→1)​P(1→2)P(2→2)​]"
   ]
  },
  {
   "cell_type": "code",
   "execution_count": 11,
   "id": "6b4f1ae1-7057-4e51-92ec-25b609f2d178",
   "metadata": {},
   "outputs": [],
   "source": [
    "N = len(X)\n",
    "nstates = 2"
   ]
  },
  {
   "cell_type": "markdown",
   "id": "f83e755a-1fb0-4c9a-aa12-cc145151d9f8",
   "metadata": {},
   "source": [
    "## Expectation Maximization (EM)"
   ]
  },
  {
   "cell_type": "code",
   "execution_count": 54,
   "id": "f4a9166a-117b-4c10-b972-878bd8343245",
   "metadata": {},
   "outputs": [
    {
     "name": "stdout",
     "output_type": "stream",
     "text": [
      "iteration :  0|\t"
     ]
    },
    {
     "name": "stderr",
     "output_type": "stream",
     "text": [
      "/tmp/ipykernel_896245/3521481561.py:29: RuntimeWarning: divide by zero encountered in log\n",
      "  total_ll += np.log(ll_t)\n"
     ]
    },
    {
     "name": "stdout",
     "output_type": "stream",
     "text": [
      "Log likelihood: -inf\n",
      "iteration :  1|\t"
     ]
    },
    {
     "name": "stderr",
     "output_type": "stream",
     "text": [
      "/tmp/ipykernel_896245/3521481561.py:31: RuntimeWarning: invalid value encountered in scalar subtract\n",
      "  if np.abs(total_ll - prev_total_ll) < tol:\n"
     ]
    },
    {
     "name": "stdout",
     "output_type": "stream",
     "text": [
      "Log likelihood: -0.0000\n",
      "iteration :  2|\tLog likelihood: -0.0000\n",
      "iteration :  3|\tLog likelihood: -0.0000\n",
      "iteration :  4|\tLog likelihood: -0.0000\n",
      "iteration :  5|\tLog likelihood: -0.0000\n",
      "iteration :  6|\tLog likelihood: -0.0000\n",
      "iteration :  7|\tLog likelihood: -0.0000\n",
      "iteration :  8|\tLog likelihood: -0.0000\n",
      "iteration :  9|\tLog likelihood: -0.0000\n",
      "iteration : 10|\tLog likelihood: -0.0000\n",
      "iteration : 11|\tLog likelihood: -0.0000\n",
      "iteration : 12|\tLog likelihood: -0.0000\n",
      "iteration : 13|\tLog likelihood: -0.0000\n",
      "iteration : 14|\tLog likelihood: -0.0000\n",
      "iteration : 15|\tLog likelihood: -0.0000\n",
      "iteration : 16|\tLog likelihood: -0.0000\n",
      "iteration : 17|\tLog likelihood: -0.0000\n",
      "iteration : 18|\tLog likelihood: -0.0000\n",
      "iteration : 19|\tLog likelihood: -0.0000\n"
     ]
    }
   ],
   "source": [
    "max_iter = 20\n",
    "tol = 1e-4\n",
    "prev_total_ll = -np.inf\n",
    "for ii in range(max_iter):\n",
    "    print(f\"iteration : {ii:2d}\", end=\"|\\t\")\n",
    "    # E step \n",
    "    gamma = np.zeros((N, nstates))\n",
    "\n",
    "    for s in states:\n",
    "        mu_s = params[s][\"mu\"]\n",
    "        beta_s = params[s][\"beta\"]\n",
    "        sigma_s = params[s][\"sigma\"]\n",
    "        X_prev = np.roll(X, 1)\n",
    "        X_prev[0] = X[0]\n",
    "        mean_s = mu_s + (1-beta_s) * X_prev\n",
    "\n",
    "        # densidad gaussiana\n",
    "        L = (1/(np.sqrt(2*np.pi) * sigma_s)) * \\\n",
    "                np.exp(-(X-mean_s)**2/(2*sigma_s**2))\n",
    "        gamma[:, s-1] = L\n",
    "    gamma_sum = gamma.sum(axis=1, keepdims=True)\n",
    "    gamma_sum[gamma_sum==0] = 1e-10\n",
    "    gamma = gamma/gamma_sum\n",
    "    # log likelihood\n",
    "    total_ll = 0\n",
    "    for t in range(N):\n",
    "        ll_t = 0\n",
    "        for k in range(nstates):\n",
    "            ll_t += gamma[t, k]\n",
    "        total_ll += np.log(ll_t)\n",
    "    \n",
    "    print(f\"Log likelihood: {total_ll:.4f}\")\n",
    "    if np.abs(total_ll - prev_total_ll) < tol:\n",
    "        print(\"Convergence OK\")\n",
    "        break\n",
    "    prev_total_ll = total_ll\n",
    "    \n",
    "    # M step \n",
    "    for s in states:\n",
    "        w = gamma[:, s-1]\n",
    "        X_prev = np.roll(X, 1)\n",
    "        X_prev[0] = X[0]\n",
    "        dX = X-X_prev\n",
    "        A = np.vstack([np.ones(len(X_prev)), -X_prev]).T\n",
    "        sqrt_w = np.sqrt(w)\n",
    "        A_w = A*sqrt_w[:, np.newaxis]\n",
    "        dX_w = dX * sqrt_w\n",
    "        coef = np.linalg.lstsq(A_w, dX_w, rcond=None)[0]\n",
    "        mu_s_new, beta_s_new = coef\n",
    "        resid = dX - (mu_s_new - beta_s_new * X_prev)\n",
    "        sigma_s_new = np.sqrt(np.sum(w*resid**2)/np.sum(w))\n",
    "        params[s]['mu'] = mu_s_new\n",
    "        params[s]['beta'] = beta_s_new\n",
    "        params[s]['sigma'] = sigma_s_new\n",
    "    \n",
    "    # transition matrix\n",
    "    trans_counts =np.zeros((n_states, n_states))\n",
    "    for t in range(N-1):\n",
    "        prob_t = gamma[t]\n",
    "        prob_t1 = gamma[t]\n",
    "        outer = np.outer(prob_t, prob_t1)\n",
    "        trans_counts += outer\n",
    "    trans_probs = trans_counts / trans_counts.sum(axis=1, keepdims=True)\n",
    "    "
   ]
  },
  {
   "cell_type": "code",
   "execution_count": 38,
   "id": "59402818-f2c4-4208-80e5-16cc17eee2df",
   "metadata": {},
   "outputs": [
    {
     "data": {
      "text/plain": [
       "array([3, 0, 1, 2])"
      ]
     },
     "execution_count": 38,
     "metadata": {},
     "output_type": "execute_result"
    }
   ],
   "source": [
    "np.roll(range(4), 1)"
   ]
  },
  {
   "cell_type": "code",
   "execution_count": 52,
   "id": "db6785f3-2a44-40de-8b54-b4377be4cf0f",
   "metadata": {},
   "outputs": [
    {
     "data": {
      "text/plain": [
       "array([[0, 0, 0, 0, 0, 0, 0, 0, 0],\n",
       "       [0, 1, 0, 0, 0, 0, 0, 0, 0],\n",
       "       [0, 0, 2, 0, 0, 0, 0, 0, 0],\n",
       "       [0, 0, 0, 3, 0, 0, 0, 0, 0],\n",
       "       [0, 0, 0, 0, 4, 0, 0, 0, 0],\n",
       "       [0, 0, 0, 0, 0, 5, 0, 0, 0],\n",
       "       [0, 0, 0, 0, 0, 0, 6, 0, 0],\n",
       "       [0, 0, 0, 0, 0, 0, 0, 7, 0],\n",
       "       [0, 0, 0, 0, 0, 0, 0, 0, 8]])"
      ]
     },
     "execution_count": 52,
     "metadata": {},
     "output_type": "execute_result"
    }
   ],
   "source": [
    "np.diag(range(9))"
   ]
  },
  {
   "cell_type": "code",
   "execution_count": 53,
   "id": "a709b725-ee31-4d7b-a6d9-35dae9fcbb8e",
   "metadata": {},
   "outputs": [
    {
     "data": {
      "text/plain": [
       "720717"
      ]
     },
     "execution_count": 53,
     "metadata": {},
     "output_type": "execute_result"
    }
   ],
   "source": [
    "N"
   ]
  },
  {
   "cell_type": "code",
   "execution_count": null,
   "id": "2b5c59c2-21bd-497a-9a21-184bd0052b3d",
   "metadata": {},
   "outputs": [],
   "source": []
  }
 ],
 "metadata": {
  "kernelspec": {
   "display_name": "Python 3 (ipykernel)",
   "language": "python",
   "name": "python3"
  },
  "language_info": {
   "codemirror_mode": {
    "name": "ipython",
    "version": 3
   },
   "file_extension": ".py",
   "mimetype": "text/x-python",
   "name": "python",
   "nbconvert_exporter": "python",
   "pygments_lexer": "ipython3",
   "version": "3.12.3"
  }
 },
 "nbformat": 4,
 "nbformat_minor": 5
}
