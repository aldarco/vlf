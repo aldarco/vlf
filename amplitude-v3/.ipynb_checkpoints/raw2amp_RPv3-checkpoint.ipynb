{
 "cells": [
  {
   "cell_type": "code",
   "execution_count": 5,
   "id": "feea0a3b-4d7e-4ece-9176-b2f1a544e9c3",
   "metadata": {},
   "outputs": [],
   "source": [
    "import os\n",
    "import json\n",
    "from collections import deque\n",
    "import numpy as np\n",
    "import threading\n",
    "import signal \n",
    "import time\n",
    "import matplotlib; matplotlib.use('TkAgg') \n",
    "import matplotlib.pyplot as plt\n",
    "import matplotlib.animation as animation\n",
    "import sys\n",
    "\n",
    "sys.path.append(\"/home/pavnet/processing2/dataprocessingv2/code/\")\n",
    "# pavnet's modules\n",
    "import utils\n",
    "import station"
   ]
  },
  {
   "cell_type": "code",
   "execution_count": null,
   "id": "1b3eaf65-e634-49a5-9c9d-5694a63924f0",
   "metadata": {},
   "outputs": [],
   "source": [
    "curr_dir = os.path.dirname(__file__)\n",
    "with open(f'{curr_dir}/config_params.json', 'r') as f:\n",
    "    config = json.load(f)\n",
    "    #print(json.dumps(config, indent=4))\n",
    "\n",
    "dspconfig = config[\"DSP\"]\n",
    "Txs = dspconfig[\"vlf_transmitters\"].keys()\n",
    "backup_path = None #\"/data/pavnet/datafiles/\"\n",
    "ramdisk = \"/run/user/1000/temprpdata/\"\n",
    "SLEEPT = 2 #seconds"
   ]
  },
  {
   "cell_type": "code",
   "execution_count": null,
   "id": "ed6acc31-e0e2-48bf-a266-d9825afcf3a5",
   "metadata": {},
   "outputs": [],
   "source": [
    "path = \"PATHTODATA\"\n",
    "\n",
    "failedfiles = []\n",
    "\n",
    "datafiles = [f for f in os.listdir(path) ]\n",
    "Savg = np.zeros(dspconfig[\"fft_npts\"])\n",
    "iq_arr = [] ; t_arr = []\n",
    "txamp = {name:[] for name in Txs}\n",
    "ti = time.perf_counter()\n",
    "for f in datafiles:\n",
    "    pathf = f\"{path}/{f}\"\n",
    "    \n",
    "    try: \n",
    "        with open(pathf, \"+rb\") as file:\n",
    "            iq = utils.read_binary_IQ(file).T\n",
    "            t = utils.get_dt_fname_v3(f)\n",
    "            #print(iq)\n",
    "        #iq_arr.append(   iq.T )#  to (N,2) shape\n",
    "        #t_arr.append(t)\n",
    "        #print(f\"File: {f}\", end=\"\\r\")\n",
    "        amps_, S = sproc.get_amplitudes(iq)\n",
    "        #Savg += S\n",
    "        data_buffer[\"DateTime\"].append(t)\n",
    "        for name in Txs:\n",
    "            # appends to queue buffer\n",
    "            data_buffer[name].append(amps_[name])\n",
    "            # to do: store and/or send to db\n",
    "        #os.remove(pathf)\n",
    "    except ValueError as e:\n",
    "        failedfiles.append(f)\n",
    "    \n",
    "if datafiles: \n",
    "    spectrum = Savg / len(datafiles) \n",
    "    tf = time.perf_counter()\n",
    "    print(\"Nfiles:\", len(datafiles),\"Avg time spent : \", (tf-ti)/len(datafiles), \"s / file  - - - \", end=\"\\r\")\n",
    "\n"
   ]
  }
 ],
 "metadata": {
  "kernelspec": {
   "display_name": "Python 3 (ipykernel)",
   "language": "python",
   "name": "python3"
  },
  "language_info": {
   "codemirror_mode": {
    "name": "ipython",
    "version": 3
   },
   "file_extension": ".py",
   "mimetype": "text/x-python",
   "name": "python",
   "nbconvert_exporter": "python",
   "pygments_lexer": "ipython3",
   "version": "3.10.12"
  }
 },
 "nbformat": 4,
 "nbformat_minor": 5
}
