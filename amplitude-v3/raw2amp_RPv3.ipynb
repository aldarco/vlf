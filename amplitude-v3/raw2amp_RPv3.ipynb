{
 "cells": [
  {
   "cell_type": "code",
   "execution_count": 1,
   "id": "feea0a3b-4d7e-4ece-9176-b2f1a544e9c3",
   "metadata": {},
   "outputs": [],
   "source": [
    "import os\n",
    "import json\n",
    "from collections import deque\n",
    "import numpy as np\n",
    "import threading\n",
    "import signal \n",
    "import time\n",
    "import matplotlib; matplotlib.use('TkAgg') \n",
    "import matplotlib.pyplot as plt\n",
    "import matplotlib.animation as animation\n",
    "import sys\n",
    "\n",
    "sys.path.append(\"/home/pavnet/processing2/dataprocessingv2/code/\")\n",
    "# pavnet's modules\n",
    "import utils\n",
    "import station"
   ]
  },
  {
   "cell_type": "code",
   "execution_count": 4,
   "id": "1b3eaf65-e634-49a5-9c9d-5694a63924f0",
   "metadata": {},
   "outputs": [
    {
     "name": "stdout",
     "output_type": "stream",
     "text": [
      "[0.00000000e+00 1.22070312e+01 2.44140625e+01 ... 9.99633789e+04\n",
      " 9.99755859e+04 9.99877930e+04]\n",
      "DSP Set Ok\n"
     ]
    }
   ],
   "source": [
    "curr_dir = os.getcwd()#os.path.dirname(__file__)\n",
    "with open(f'{curr_dir}/config_params.json', 'r') as f:\n",
    "    config = json.load(f)\n",
    "    #print(json.dumps(config, indent=4))\n",
    "\n",
    "dspconfig = config[\"DSP\"]\n",
    "sproc = station.dsp(dspconfig)\n",
    "Txs = dspconfig[\"vlf_transmitters\"].keys()\n",
    "backup_path = None #\"/data/pavnet/datafiles/\"\n",
    "ramdisk = \"/run/user/1000/temprpdata/\"\n",
    "SLEEPT = 2 #seconds"
   ]
  },
  {
   "cell_type": "code",
   "execution_count": 7,
   "id": "ed6acc31-e0e2-48bf-a266-d9825afcf3a5",
   "metadata": {},
   "outputs": [
    {
     "name": "stdout",
     "output_type": "stream",
     "text": [
      "85230 files found\n"
     ]
    },
    {
     "ename": "KeyboardInterrupt",
     "evalue": "",
     "output_type": "error",
     "traceback": [
      "\u001b[0;31m---------------------------------------------------------------------------\u001b[0m",
      "\u001b[0;31mKeyboardInterrupt\u001b[0m                         Traceback (most recent call last)",
      "Cell \u001b[0;32mIn[7], line 24\u001b[0m\n\u001b[1;32m     19\u001b[0m     t \u001b[38;5;241m=\u001b[39m utils\u001b[38;5;241m.\u001b[39mget_dt_fname_v3(f)\n\u001b[1;32m     20\u001b[0m     \u001b[38;5;66;03m#print(iq)\u001b[39;00m\n\u001b[1;32m     21\u001b[0m \u001b[38;5;66;03m#iq_arr.append(   iq.T )#  to (N,2) shape\u001b[39;00m\n\u001b[1;32m     22\u001b[0m \u001b[38;5;66;03m#t_arr.append(t)\u001b[39;00m\n\u001b[1;32m     23\u001b[0m \u001b[38;5;66;03m#print(f\"File: {f}\", end=\"\\r\")\u001b[39;00m\n\u001b[0;32m---> 24\u001b[0m amps_, S \u001b[38;5;241m=\u001b[39m \u001b[43msproc\u001b[49m\u001b[38;5;241;43m.\u001b[39;49m\u001b[43mget_amplitudes\u001b[49m\u001b[43m(\u001b[49m\u001b[43miq\u001b[49m\u001b[43m)\u001b[49m\n\u001b[1;32m     25\u001b[0m \u001b[38;5;66;03m#Savg += S\u001b[39;00m\n\u001b[1;32m     26\u001b[0m data_buffer[\u001b[38;5;124m\"\u001b[39m\u001b[38;5;124mDateTime\u001b[39m\u001b[38;5;124m\"\u001b[39m]\u001b[38;5;241m.\u001b[39mappend(t)\n",
      "File \u001b[0;32m~/processing2/dataprocessingv2/code/station.py:120\u001b[0m, in \u001b[0;36mdsp.get_amplitudes\u001b[0;34m(self, x)\u001b[0m\n\u001b[1;32m    113\u001b[0m \u001b[38;5;66;03m#print(x)\u001b[39;00m\n\u001b[1;32m    114\u001b[0m \u001b[38;5;66;03m#print(\"signal shape\", x.shape)\u001b[39;00m\n\u001b[1;32m    115\u001b[0m \n\u001b[1;32m    116\u001b[0m \u001b[38;5;66;03m# file = strio(content.decode())\u001b[39;00m\n\u001b[1;32m    117\u001b[0m \u001b[38;5;66;03m#st = pd.read_csv(, comment=\"#\", header=None, sep=\",\").values\u001b[39;00m\n\u001b[1;32m    118\u001b[0m \u001b[38;5;28;01mif\u001b[39;00m \u001b[38;5;28mself\u001b[39m\u001b[38;5;241m.\u001b[39mclipping_filter: [x[:,\u001b[38;5;241m0\u001b[39m] , x[:,\u001b[38;5;241m1\u001b[39m]] \u001b[38;5;241m=\u001b[39m \u001b[38;5;28mself\u001b[39m\u001b[38;5;241m.\u001b[39mIQ_clipping_filter(x)\n\u001b[0;32m--> 120\u001b[0m iq \u001b[38;5;241m=\u001b[39m \u001b[43msignal\u001b[49m\u001b[38;5;241;43m.\u001b[39;49m\u001b[43mfiltfilt\u001b[49m\u001b[43m(\u001b[49m\u001b[38;5;28;43mself\u001b[39;49m\u001b[38;5;241;43m.\u001b[39;49m\u001b[43mhpf\u001b[49m\u001b[43m,\u001b[49m\u001b[43m \u001b[49m\u001b[38;5;241;43m1\u001b[39;49m\u001b[43m,\u001b[49m\u001b[43m \u001b[49m\u001b[43mx\u001b[49m\u001b[43m[\u001b[49m\u001b[43m:\u001b[49m\u001b[43m,\u001b[49m\u001b[38;5;241;43m0\u001b[39;49m\u001b[43m]\u001b[49m\u001b[43m)\u001b[49m \u001b[38;5;241m+\u001b[39m\u001b[38;5;241m1\u001b[39mj\u001b[38;5;241m*\u001b[39msignal\u001b[38;5;241m.\u001b[39mfiltfilt(\u001b[38;5;28mself\u001b[39m\u001b[38;5;241m.\u001b[39mhpf, \u001b[38;5;241m1\u001b[39m, x[:,\u001b[38;5;241m1\u001b[39m])\n\u001b[1;32m    122\u001b[0m \u001b[38;5;66;03m# local universal time : localt +5h\u001b[39;00m\n\u001b[1;32m    123\u001b[0m \u001b[38;5;66;03m#t = utils.get_dt_fname_v3(str(f)) + datetime.timedelta(hours=self.TOFFSET))\u001b[39;00m\n\u001b[1;32m    124\u001b[0m \u001b[38;5;66;03m#print(\"\\napplying FFT {}\".format(method))\u001b[39;00m\n\u001b[1;32m    125\u001b[0m S \u001b[38;5;241m=\u001b[39m \u001b[38;5;28mself\u001b[39m\u001b[38;5;241m.\u001b[39mfft_method(iq) \u001b[38;5;66;03m#fft_pavnet.fft_window(st, wlen=fft_npts,fw=signal.windows.flattop)\u001b[39;00m\n",
      "File \u001b[0;32m~/.local/lib/python3.10/site-packages/scipy/signal/_signaltools.py:4163\u001b[0m, in \u001b[0;36mfiltfilt\u001b[0;34m(b, a, x, axis, padtype, padlen, method, irlen)\u001b[0m\n\u001b[1;32m   4159\u001b[0m edge, ext \u001b[38;5;241m=\u001b[39m _validate_pad(padtype, padlen, x, axis,\n\u001b[1;32m   4160\u001b[0m                           ntaps\u001b[38;5;241m=\u001b[39m\u001b[38;5;28mmax\u001b[39m(\u001b[38;5;28mlen\u001b[39m(a), \u001b[38;5;28mlen\u001b[39m(b)))\n\u001b[1;32m   4162\u001b[0m \u001b[38;5;66;03m# Get the steady state of the filter's step response.\u001b[39;00m\n\u001b[0;32m-> 4163\u001b[0m zi \u001b[38;5;241m=\u001b[39m \u001b[43mlfilter_zi\u001b[49m\u001b[43m(\u001b[49m\u001b[43mb\u001b[49m\u001b[43m,\u001b[49m\u001b[43m \u001b[49m\u001b[43ma\u001b[49m\u001b[43m)\u001b[49m\n\u001b[1;32m   4165\u001b[0m \u001b[38;5;66;03m# Reshape zi and create x0 so that zi*x0 broadcasts\u001b[39;00m\n\u001b[1;32m   4166\u001b[0m \u001b[38;5;66;03m# to the correct value for the 'zi' keyword argument\u001b[39;00m\n\u001b[1;32m   4167\u001b[0m \u001b[38;5;66;03m# to lfilter.\u001b[39;00m\n\u001b[1;32m   4168\u001b[0m zi_shape \u001b[38;5;241m=\u001b[39m [\u001b[38;5;241m1\u001b[39m] \u001b[38;5;241m*\u001b[39m x\u001b[38;5;241m.\u001b[39mndim\n",
      "File \u001b[0;32m~/.local/lib/python3.10/site-packages/scipy/signal/_signaltools.py:3717\u001b[0m, in \u001b[0;36mlfilter_zi\u001b[0;34m(b, a)\u001b[0m\n\u001b[1;32m   3715\u001b[0m B \u001b[38;5;241m=\u001b[39m b[\u001b[38;5;241m1\u001b[39m:] \u001b[38;5;241m-\u001b[39m a[\u001b[38;5;241m1\u001b[39m:] \u001b[38;5;241m*\u001b[39m b[\u001b[38;5;241m0\u001b[39m]\n\u001b[1;32m   3716\u001b[0m \u001b[38;5;66;03m# Solve zi = A*zi + B\u001b[39;00m\n\u001b[0;32m-> 3717\u001b[0m zi \u001b[38;5;241m=\u001b[39m \u001b[43mnp\u001b[49m\u001b[38;5;241;43m.\u001b[39;49m\u001b[43mlinalg\u001b[49m\u001b[38;5;241;43m.\u001b[39;49m\u001b[43msolve\u001b[49m\u001b[43m(\u001b[49m\u001b[43mIminusA\u001b[49m\u001b[43m,\u001b[49m\u001b[43m \u001b[49m\u001b[43mB\u001b[49m\u001b[43m)\u001b[49m\n\u001b[1;32m   3719\u001b[0m \u001b[38;5;66;03m# For future reference: we could also use the following\u001b[39;00m\n\u001b[1;32m   3720\u001b[0m \u001b[38;5;66;03m# explicit formulas to solve the linear system:\u001b[39;00m\n\u001b[1;32m   3721\u001b[0m \u001b[38;5;66;03m#\u001b[39;00m\n\u001b[0;32m   (...)\u001b[0m\n\u001b[1;32m   3728\u001b[0m \u001b[38;5;66;03m#     csum += b[k] - a[k]*b[0]\u001b[39;00m\n\u001b[1;32m   3729\u001b[0m \u001b[38;5;66;03m#     zi[k] = asum*zi[0] - csum\u001b[39;00m\n\u001b[1;32m   3731\u001b[0m \u001b[38;5;28;01mreturn\u001b[39;00m zi\n",
      "File \u001b[0;32m~/.local/lib/python3.10/site-packages/numpy/linalg/linalg.py:409\u001b[0m, in \u001b[0;36msolve\u001b[0;34m(a, b)\u001b[0m\n\u001b[1;32m    407\u001b[0m signature \u001b[38;5;241m=\u001b[39m \u001b[38;5;124m'\u001b[39m\u001b[38;5;124mDD->D\u001b[39m\u001b[38;5;124m'\u001b[39m \u001b[38;5;28;01mif\u001b[39;00m isComplexType(t) \u001b[38;5;28;01melse\u001b[39;00m \u001b[38;5;124m'\u001b[39m\u001b[38;5;124mdd->d\u001b[39m\u001b[38;5;124m'\u001b[39m\n\u001b[1;32m    408\u001b[0m extobj \u001b[38;5;241m=\u001b[39m get_linalg_error_extobj(_raise_linalgerror_singular)\n\u001b[0;32m--> 409\u001b[0m r \u001b[38;5;241m=\u001b[39m \u001b[43mgufunc\u001b[49m\u001b[43m(\u001b[49m\u001b[43ma\u001b[49m\u001b[43m,\u001b[49m\u001b[43m \u001b[49m\u001b[43mb\u001b[49m\u001b[43m,\u001b[49m\u001b[43m \u001b[49m\u001b[43msignature\u001b[49m\u001b[38;5;241;43m=\u001b[39;49m\u001b[43msignature\u001b[49m\u001b[43m,\u001b[49m\u001b[43m \u001b[49m\u001b[43mextobj\u001b[49m\u001b[38;5;241;43m=\u001b[39;49m\u001b[43mextobj\u001b[49m\u001b[43m)\u001b[49m\n\u001b[1;32m    411\u001b[0m \u001b[38;5;28;01mreturn\u001b[39;00m wrap(r\u001b[38;5;241m.\u001b[39mastype(result_t, copy\u001b[38;5;241m=\u001b[39m\u001b[38;5;28;01mFalse\u001b[39;00m))\n",
      "\u001b[0;31mKeyboardInterrupt\u001b[0m: "
     ]
    }
   ],
   "source": [
    "path = \"/media/pavnet/16b8fef7-f982-4558-873c-a7fc8d2b7357/\"\n",
    "\n",
    "failedfiles = []\n",
    "\n",
    "datafiles = [f for f in os.listdir(path) ]\n",
    "print(f\"{len(datafiles)} files found\")\n",
    "Savg = np.zeros(dspconfig[\"fft_npts\"])\n",
    "iq_arr = [] ; t_arr = []\n",
    "data_buffer = {\"DateTime\": []}\n",
    "for k in dspconfig[\"vlf_transmitters\"].keys():\n",
    "    data_buffer[k] = []\n",
    "ti = time.perf_counter()\n",
    "ii=0\n",
    "N=len(datafiles)\n",
    "for f in datafiles:\n",
    "    pathf = f\"{path}/{f}\"\n",
    "    \n",
    "    try: \n",
    "        with open(pathf, \"+rb\") as file:\n",
    "            iq = utils.read_binary_IQ(file).T\n",
    "            t = utils.get_dt_fname_v3(f)\n",
    "            #print(iq)\n",
    "        #iq_arr.append(   iq.T )#  to (N,2) shape\n",
    "        #t_arr.append(t)\n",
    "        #print(f\"File: {f}\", end=\"\\r\")\n",
    "        amps_, S = sproc.get_amplitudes(iq)\n",
    "        #Savg += S\n",
    "        data_buffer[\"DateTime\"].append(t)\n",
    "        for name in Txs:\n",
    "            # appends to queue buffer\n",
    "            data_buffer[name].append(amps_[name][0])\n",
    "            # to do: store and/or send to db\n",
    "        #os.remove(pathf)\n",
    "    print(ii,ii/N *100, end=\"\\r\")\n",
    "    except ValueError as e:\n",
    "        failedfiles.append(f)\n",
    "    #print(f\"\")\n",
    "if datafiles: \n",
    "    spectrum = Savg / len(datafiles) \n",
    "    tf = time.perf_counter()\n",
    "    print(\"Nfiles:\", len(datafiles),\"Avg time spent : \", (tf-ti)/len(datafiles), \"s / file  - - - \", end=\"\\r\")\n",
    "\n"
   ]
  },
  {
   "cell_type": "code",
   "execution_count": 8,
   "id": "bfc9a3a6-aa73-4698-98ee-1962f23be5dd",
   "metadata": {},
   "outputs": [
    {
     "data": {
      "text/plain": [
       "14786"
      ]
     },
     "execution_count": 8,
     "metadata": {},
     "output_type": "execute_result"
    }
   ],
   "source": [
    "len(data_buffer[\"DateTime\"])"
   ]
  },
  {
   "cell_type": "code",
   "execution_count": 10,
   "id": "a33f61b1-6a90-48f8-ad36-efa4883a2780",
   "metadata": {},
   "outputs": [
    {
     "data": {
      "text/plain": [
       "897.8135488370001"
      ]
     },
     "execution_count": 10,
     "metadata": {},
     "output_type": "execute_result"
    }
   ],
   "source": [
    "time.perf_counter()-ti"
   ]
  },
  {
   "cell_type": "code",
   "execution_count": 13,
   "id": "c16e1210-25c3-41f9-a55b-15521c2a8d5c",
   "metadata": {},
   "outputs": [],
   "source": [
    "plt.plot(data_buffer[\"DateTime\"],data_buffer[\"NAA\"])\n",
    "plt.show()"
   ]
  },
  {
   "cell_type": "code",
   "execution_count": null,
   "id": "dce7a139-bc12-4e09-933f-8d263483d7f8",
   "metadata": {},
   "outputs": [],
   "source": []
  },
  {
   "cell_type": "code",
   "execution_count": 15,
   "id": "366eaef9-53f8-427b-b2f6-0801d2b269fc",
   "metadata": {},
   "outputs": [],
   "source": [
    "import pandas as pd"
   ]
  },
  {
   "cell_type": "code",
   "execution_count": 19,
   "id": "830d7839-23b2-4563-b22a-cdeb3cd76844",
   "metadata": {},
   "outputs": [],
   "source": [
    "df = pd.DataFrame(data_buffer, index=data_buffer[\"DateTime\"])"
   ]
  },
  {
   "cell_type": "code",
   "execution_count": 20,
   "id": "e4e5811b-3c39-4651-a0bc-3bfb1e242bfa",
   "metadata": {},
   "outputs": [],
   "source": [
    "df = df.sort_index()"
   ]
  },
  {
   "cell_type": "code",
   "execution_count": 22,
   "id": "a7a2a872-7b56-41d6-8518-50e11d7b966a",
   "metadata": {},
   "outputs": [
    {
     "data": {
      "text/html": [
       "<div>\n",
       "<style scoped>\n",
       "    .dataframe tbody tr th:only-of-type {\n",
       "        vertical-align: middle;\n",
       "    }\n",
       "\n",
       "    .dataframe tbody tr th {\n",
       "        vertical-align: top;\n",
       "    }\n",
       "\n",
       "    .dataframe thead th {\n",
       "        text-align: right;\n",
       "    }\n",
       "</style>\n",
       "<table border=\"1\" class=\"dataframe\">\n",
       "  <thead>\n",
       "    <tr style=\"text-align: right;\">\n",
       "      <th></th>\n",
       "      <th>DateTime</th>\n",
       "      <th>NPM</th>\n",
       "      <th>NAA</th>\n",
       "      <th>NLK</th>\n",
       "      <th>NLM</th>\n",
       "      <th>NAU</th>\n",
       "    </tr>\n",
       "  </thead>\n",
       "  <tbody>\n",
       "    <tr>\n",
       "      <th>2025-05-14 20:01:35</th>\n",
       "      <td>2025-05-14 20:01:35</td>\n",
       "      <td>[465.20265734539015]</td>\n",
       "      <td>[5134.357957539795]</td>\n",
       "      <td>[1748.9171664360206]</td>\n",
       "      <td>[2225.0342575940053]</td>\n",
       "      <td>[0.05329164032542714]</td>\n",
       "    </tr>\n",
       "    <tr>\n",
       "      <th>2025-05-14 20:01:40</th>\n",
       "      <td>2025-05-14 20:01:40</td>\n",
       "      <td>[334.9045113832787]</td>\n",
       "      <td>[5022.121099876195]</td>\n",
       "      <td>[1647.5594736221738]</td>\n",
       "      <td>[2279.907115489454]</td>\n",
       "      <td>[0.052363604197119586]</td>\n",
       "    </tr>\n",
       "    <tr>\n",
       "      <th>2025-05-14 20:01:46</th>\n",
       "      <td>2025-05-14 20:01:46</td>\n",
       "      <td>[455.77287813693385]</td>\n",
       "      <td>[5139.320852491162]</td>\n",
       "      <td>[1695.5928616794745]</td>\n",
       "      <td>[2259.574933305622]</td>\n",
       "      <td>[0.058843597396608764]</td>\n",
       "    </tr>\n",
       "    <tr>\n",
       "      <th>2025-05-14 20:01:50</th>\n",
       "      <td>2025-05-14 20:01:50</td>\n",
       "      <td>[530.0280096209452]</td>\n",
       "      <td>[5280.511513670116]</td>\n",
       "      <td>[1747.2008370395145]</td>\n",
       "      <td>[2359.018841892649]</td>\n",
       "      <td>[0.07262251688011079]</td>\n",
       "    </tr>\n",
       "    <tr>\n",
       "      <th>2025-05-14 20:01:53</th>\n",
       "      <td>2025-05-14 20:01:53</td>\n",
       "      <td>[433.417534252591]</td>\n",
       "      <td>[5170.646023560062]</td>\n",
       "      <td>[1698.1251157819902]</td>\n",
       "      <td>[2358.4014003886837]</td>\n",
       "      <td>[0.053746273301809346]</td>\n",
       "    </tr>\n",
       "  </tbody>\n",
       "</table>\n",
       "</div>"
      ],
      "text/plain": [
       "                               DateTime                   NPM  \\\n",
       "2025-05-14 20:01:35 2025-05-14 20:01:35  [465.20265734539015]   \n",
       "2025-05-14 20:01:40 2025-05-14 20:01:40   [334.9045113832787]   \n",
       "2025-05-14 20:01:46 2025-05-14 20:01:46  [455.77287813693385]   \n",
       "2025-05-14 20:01:50 2025-05-14 20:01:50   [530.0280096209452]   \n",
       "2025-05-14 20:01:53 2025-05-14 20:01:53    [433.417534252591]   \n",
       "\n",
       "                                     NAA                   NLK  \\\n",
       "2025-05-14 20:01:35  [5134.357957539795]  [1748.9171664360206]   \n",
       "2025-05-14 20:01:40  [5022.121099876195]  [1647.5594736221738]   \n",
       "2025-05-14 20:01:46  [5139.320852491162]  [1695.5928616794745]   \n",
       "2025-05-14 20:01:50  [5280.511513670116]  [1747.2008370395145]   \n",
       "2025-05-14 20:01:53  [5170.646023560062]  [1698.1251157819902]   \n",
       "\n",
       "                                      NLM                     NAU  \n",
       "2025-05-14 20:01:35  [2225.0342575940053]   [0.05329164032542714]  \n",
       "2025-05-14 20:01:40   [2279.907115489454]  [0.052363604197119586]  \n",
       "2025-05-14 20:01:46   [2259.574933305622]  [0.058843597396608764]  \n",
       "2025-05-14 20:01:50   [2359.018841892649]   [0.07262251688011079]  \n",
       "2025-05-14 20:01:53  [2358.4014003886837]  [0.053746273301809346]  "
      ]
     },
     "execution_count": 22,
     "metadata": {},
     "output_type": "execute_result"
    }
   ],
   "source": [
    "df.head()"
   ]
  },
  {
   "cell_type": "code",
   "execution_count": 24,
   "id": "556d5e66-4013-47a7-83fb-c2d32e63ef01",
   "metadata": {},
   "outputs": [
    {
     "ename": "NameError",
     "evalue": "name 'p' is not defined",
     "output_type": "error",
     "traceback": [
      "\u001b[0;31m---------------------------------------------------------------------------\u001b[0m",
      "\u001b[0;31mNameError\u001b[0m                                 Traceback (most recent call last)",
      "Cell \u001b[0;32mIn[24], line 2\u001b[0m\n\u001b[1;32m      1\u001b[0m naa \u001b[38;5;241m=\u001b[39m [x[\u001b[38;5;241m0\u001b[39m] \u001b[38;5;28;01mfor\u001b[39;00m x \u001b[38;5;129;01min\u001b[39;00m df[\u001b[38;5;124m\"\u001b[39m\u001b[38;5;124mNAA\u001b[39m\u001b[38;5;124m\"\u001b[39m]\u001b[38;5;241m.\u001b[39mvalues]\n\u001b[0;32m----> 2\u001b[0m \u001b[43mp\u001b[49m\n",
      "\u001b[0;31mNameError\u001b[0m: name 'p' is not defined"
     ]
    }
   ],
   "source": [
    "naa = [x[0] for x in df[\"NAA\"].values]\n",
    "p"
   ]
  },
  {
   "cell_type": "code",
   "execution_count": 26,
   "id": "8b6a2eb9-8ec6-4379-a9db-8b49544ce21a",
   "metadata": {},
   "outputs": [],
   "source": [
    "plt.plot(naa)\n",
    "\n",
    "plt.show()"
   ]
  },
  {
   "cell_type": "code",
   "execution_count": 27,
   "id": "5f9450ab-3b9e-4804-bf55-249515be6cc8",
   "metadata": {},
   "outputs": [],
   "source": [
    "plt.plot(20*np.log10(naa))\n",
    "plt.show()"
   ]
  },
  {
   "cell_type": "code",
   "execution_count": null,
   "id": "16763144-e677-4238-82f2-9e96b15d24d8",
   "metadata": {},
   "outputs": [],
   "source": []
  }
 ],
 "metadata": {
  "kernelspec": {
   "display_name": "Python 3 (ipykernel)",
   "language": "python",
   "name": "python3"
  },
  "language_info": {
   "codemirror_mode": {
    "name": "ipython",
    "version": 3
   },
   "file_extension": ".py",
   "mimetype": "text/x-python",
   "name": "python",
   "nbconvert_exporter": "python",
   "pygments_lexer": "ipython3",
   "version": "3.10.12"
  }
 },
 "nbformat": 4,
 "nbformat_minor": 5
}
